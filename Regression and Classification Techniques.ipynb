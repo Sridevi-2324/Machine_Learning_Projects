{
 "cells": [
  {
   "cell_type": "code",
   "execution_count": 2,
   "metadata": {
    "id": "C6J5Xjita8xy"
   },
   "outputs": [],
   "source": [
    "# Importing required libraries\n",
    "\n",
    "import numpy as np\n",
    "import pandas as pd\n",
    "import matplotlib.pyplot as plt\n",
    "import seaborn as sns\n",
    "from sklearn import metrics\n",
    "from sklearn.metrics import confusion_matrix\n",
    "from sklearn.model_selection import train_test_split\n",
    "from sklearn.metrics import classification_report\n",
    "from sklearn.preprocessing import StandardScaler,MinMaxScaler\n",
    "from sklearn.metrics import accuracy_score\n",
    "import itertools\n",
    "import warnings\n",
    "import time\n",
    "warnings.filterwarnings(\"ignore\")\n",
    "#from sklearn import metrics"
   ]
  },
  {
   "cell_type": "code",
   "execution_count": 3,
   "metadata": {
    "colab": {
     "base_uri": "https://localhost:8080/",
     "height": 427
    },
    "id": "eFpqaK0ObFSh",
    "outputId": "da25ca11-521d-4810-93c3-6efba74f1238"
   },
   "outputs": [
    {
     "data": {
      "text/html": [
       "<div>\n",
       "<style scoped>\n",
       "    .dataframe tbody tr th:only-of-type {\n",
       "        vertical-align: middle;\n",
       "    }\n",
       "\n",
       "    .dataframe tbody tr th {\n",
       "        vertical-align: top;\n",
       "    }\n",
       "\n",
       "    .dataframe thead th {\n",
       "        text-align: right;\n",
       "    }\n",
       "</style>\n",
       "<table border=\"1\" class=\"dataframe\">\n",
       "  <thead>\n",
       "    <tr style=\"text-align: right;\">\n",
       "      <th></th>\n",
       "      <th>Student</th>\n",
       "      <th>Vaccin</th>\n",
       "      <th>HndWshQual</th>\n",
       "      <th>HndWshFreq</th>\n",
       "      <th>SociDist</th>\n",
       "      <th>NoFaceContact</th>\n",
       "      <th>RespEttiqu</th>\n",
       "      <th>PersnDist</th>\n",
       "      <th>HandSanit</th>\n",
       "      <th>Risk</th>\n",
       "      <th>Complications</th>\n",
       "      <th>Barriers</th>\n",
       "      <th>Inefficacy</th>\n",
       "      <th>KnowlTrans</th>\n",
       "      <th>KnowlMgmt</th>\n",
       "      <th>Sick</th>\n",
       "      <th>Flu</th>\n",
       "      <th>Female</th>\n",
       "    </tr>\n",
       "  </thead>\n",
       "  <tbody>\n",
       "    <tr>\n",
       "      <th>0</th>\n",
       "      <td>1</td>\n",
       "      <td>3</td>\n",
       "      <td>4</td>\n",
       "      <td>4</td>\n",
       "      <td>2</td>\n",
       "      <td>1</td>\n",
       "      <td>5</td>\n",
       "      <td>1</td>\n",
       "      <td>1</td>\n",
       "      <td>-0.770</td>\n",
       "      <td>-1.453</td>\n",
       "      <td>0.000</td>\n",
       "      <td>0.929</td>\n",
       "      <td>-0.554</td>\n",
       "      <td>0.000</td>\n",
       "      <td>0.0</td>\n",
       "      <td>0.0</td>\n",
       "      <td>1.0</td>\n",
       "    </tr>\n",
       "    <tr>\n",
       "      <th>1</th>\n",
       "      <td>2</td>\n",
       "      <td>2</td>\n",
       "      <td>4</td>\n",
       "      <td>4</td>\n",
       "      <td>5</td>\n",
       "      <td>2</td>\n",
       "      <td>5</td>\n",
       "      <td>4</td>\n",
       "      <td>4</td>\n",
       "      <td>-0.345</td>\n",
       "      <td>0.000</td>\n",
       "      <td>-0.489</td>\n",
       "      <td>0.149</td>\n",
       "      <td>-0.554</td>\n",
       "      <td>1.482</td>\n",
       "      <td>1.0</td>\n",
       "      <td>0.0</td>\n",
       "      <td>0.0</td>\n",
       "    </tr>\n",
       "    <tr>\n",
       "      <th>2</th>\n",
       "      <td>3</td>\n",
       "      <td>3</td>\n",
       "      <td>2</td>\n",
       "      <td>2</td>\n",
       "      <td>2</td>\n",
       "      <td>3</td>\n",
       "      <td>2</td>\n",
       "      <td>2</td>\n",
       "      <td>1</td>\n",
       "      <td>-0.406</td>\n",
       "      <td>-0.575</td>\n",
       "      <td>-0.234</td>\n",
       "      <td>0.693</td>\n",
       "      <td>-0.182</td>\n",
       "      <td>-1.482</td>\n",
       "      <td>0.0</td>\n",
       "      <td>0.0</td>\n",
       "      <td>0.0</td>\n",
       "    </tr>\n",
       "    <tr>\n",
       "      <th>3</th>\n",
       "      <td>4</td>\n",
       "      <td>3</td>\n",
       "      <td>3</td>\n",
       "      <td>2</td>\n",
       "      <td>2</td>\n",
       "      <td>2</td>\n",
       "      <td>5</td>\n",
       "      <td>3</td>\n",
       "      <td>1</td>\n",
       "      <td>-0.575</td>\n",
       "      <td>-0.197</td>\n",
       "      <td>-0.429</td>\n",
       "      <td>0.000</td>\n",
       "      <td>0.554</td>\n",
       "      <td>0.000</td>\n",
       "      <td>2.0</td>\n",
       "      <td>1.0</td>\n",
       "      <td>NaN</td>\n",
       "    </tr>\n",
       "    <tr>\n",
       "      <th>4</th>\n",
       "      <td>5</td>\n",
       "      <td>2</td>\n",
       "      <td>5</td>\n",
       "      <td>3</td>\n",
       "      <td>3</td>\n",
       "      <td>2</td>\n",
       "      <td>5</td>\n",
       "      <td>5</td>\n",
       "      <td>3</td>\n",
       "      <td>0.000</td>\n",
       "      <td>-0.770</td>\n",
       "      <td>0.097</td>\n",
       "      <td>0.546</td>\n",
       "      <td>0.554</td>\n",
       "      <td>0.684</td>\n",
       "      <td>1.0</td>\n",
       "      <td>0.0</td>\n",
       "      <td>0.0</td>\n",
       "    </tr>\n",
       "    <tr>\n",
       "      <th>5</th>\n",
       "      <td>6</td>\n",
       "      <td>2</td>\n",
       "      <td>5</td>\n",
       "      <td>5</td>\n",
       "      <td>3</td>\n",
       "      <td>3</td>\n",
       "      <td>2</td>\n",
       "      <td>3</td>\n",
       "      <td>1</td>\n",
       "      <td>0.169</td>\n",
       "      <td>-0.169</td>\n",
       "      <td>-0.726</td>\n",
       "      <td>0.370</td>\n",
       "      <td>0.951</td>\n",
       "      <td>0.684</td>\n",
       "      <td>2.0</td>\n",
       "      <td>1.0</td>\n",
       "      <td>0.0</td>\n",
       "    </tr>\n",
       "    <tr>\n",
       "      <th>6</th>\n",
       "      <td>7</td>\n",
       "      <td>5</td>\n",
       "      <td>4</td>\n",
       "      <td>3</td>\n",
       "      <td>3</td>\n",
       "      <td>2</td>\n",
       "      <td>5</td>\n",
       "      <td>4</td>\n",
       "      <td>3</td>\n",
       "      <td>0.345</td>\n",
       "      <td>0.406</td>\n",
       "      <td>-0.543</td>\n",
       "      <td>-1.040</td>\n",
       "      <td>0.951</td>\n",
       "      <td>1.059</td>\n",
       "      <td>1.0</td>\n",
       "      <td>0.0</td>\n",
       "      <td>0.0</td>\n",
       "    </tr>\n",
       "    <tr>\n",
       "      <th>7</th>\n",
       "      <td>8</td>\n",
       "      <td>1</td>\n",
       "      <td>4</td>\n",
       "      <td>5</td>\n",
       "      <td>3</td>\n",
       "      <td>2</td>\n",
       "      <td>5</td>\n",
       "      <td>4</td>\n",
       "      <td>3</td>\n",
       "      <td>-0.169</td>\n",
       "      <td>0.000</td>\n",
       "      <td>-0.289</td>\n",
       "      <td>-1.336</td>\n",
       "      <td>1.393</td>\n",
       "      <td>-0.335</td>\n",
       "      <td>NaN</td>\n",
       "      <td>NaN</td>\n",
       "      <td>NaN</td>\n",
       "    </tr>\n",
       "    <tr>\n",
       "      <th>8</th>\n",
       "      <td>9</td>\n",
       "      <td>2</td>\n",
       "      <td>4</td>\n",
       "      <td>3</td>\n",
       "      <td>1</td>\n",
       "      <td>3</td>\n",
       "      <td>5</td>\n",
       "      <td>3</td>\n",
       "      <td>2</td>\n",
       "      <td>-0.345</td>\n",
       "      <td>-0.523</td>\n",
       "      <td>-0.621</td>\n",
       "      <td>0.287</td>\n",
       "      <td>NaN</td>\n",
       "      <td>0.335</td>\n",
       "      <td>1.0</td>\n",
       "      <td>0.0</td>\n",
       "      <td>0.0</td>\n",
       "    </tr>\n",
       "    <tr>\n",
       "      <th>9</th>\n",
       "      <td>10</td>\n",
       "      <td>2</td>\n",
       "      <td>4</td>\n",
       "      <td>3</td>\n",
       "      <td>2</td>\n",
       "      <td>2</td>\n",
       "      <td>2</td>\n",
       "      <td>4</td>\n",
       "      <td>1</td>\n",
       "      <td>-0.169</td>\n",
       "      <td>-0.376</td>\n",
       "      <td>0.000</td>\n",
       "      <td>0.000</td>\n",
       "      <td>-1.393</td>\n",
       "      <td>-0.335</td>\n",
       "      <td>1.0</td>\n",
       "      <td>0.0</td>\n",
       "      <td>1.0</td>\n",
       "    </tr>\n",
       "  </tbody>\n",
       "</table>\n",
       "</div>"
      ],
      "text/plain": [
       "   Student  Vaccin  HndWshQual  HndWshFreq  SociDist  NoFaceContact  \\\n",
       "0        1       3           4           4         2              1   \n",
       "1        2       2           4           4         5              2   \n",
       "2        3       3           2           2         2              3   \n",
       "3        4       3           3           2         2              2   \n",
       "4        5       2           5           3         3              2   \n",
       "5        6       2           5           5         3              3   \n",
       "6        7       5           4           3         3              2   \n",
       "7        8       1           4           5         3              2   \n",
       "8        9       2           4           3         1              3   \n",
       "9       10       2           4           3         2              2   \n",
       "\n",
       "   RespEttiqu  PersnDist  HandSanit   Risk  Complications  Barriers  \\\n",
       "0           5          1          1 -0.770         -1.453     0.000   \n",
       "1           5          4          4 -0.345          0.000    -0.489   \n",
       "2           2          2          1 -0.406         -0.575    -0.234   \n",
       "3           5          3          1 -0.575         -0.197    -0.429   \n",
       "4           5          5          3  0.000         -0.770     0.097   \n",
       "5           2          3          1  0.169         -0.169    -0.726   \n",
       "6           5          4          3  0.345          0.406    -0.543   \n",
       "7           5          4          3 -0.169          0.000    -0.289   \n",
       "8           5          3          2 -0.345         -0.523    -0.621   \n",
       "9           2          4          1 -0.169         -0.376     0.000   \n",
       "\n",
       "   Inefficacy  KnowlTrans  KnowlMgmt  Sick  Flu  Female  \n",
       "0       0.929      -0.554      0.000   0.0  0.0     1.0  \n",
       "1       0.149      -0.554      1.482   1.0  0.0     0.0  \n",
       "2       0.693      -0.182     -1.482   0.0  0.0     0.0  \n",
       "3       0.000       0.554      0.000   2.0  1.0     NaN  \n",
       "4       0.546       0.554      0.684   1.0  0.0     0.0  \n",
       "5       0.370       0.951      0.684   2.0  1.0     0.0  \n",
       "6      -1.040       0.951      1.059   1.0  0.0     0.0  \n",
       "7      -1.336       1.393     -0.335   NaN  NaN     NaN  \n",
       "8       0.287         NaN      0.335   1.0  0.0     0.0  \n",
       "9       0.000      -1.393     -0.335   1.0  0.0     1.0  "
      ]
     },
     "execution_count": 3,
     "metadata": {},
     "output_type": "execute_result"
    }
   ],
   "source": [
    "# Reading the data and printing the head of it\n",
    "flu_df = pd.read_csv('flu_data.csv')\n",
    "flu_df.head(10)"
   ]
  },
  {
   "cell_type": "code",
   "execution_count": 4,
   "metadata": {
    "colab": {
     "base_uri": "https://localhost:8080/"
    },
    "id": "Pbot9h1rbcpu",
    "outputId": "698f5179-72e7-4bee-a9e0-7f1ad525d9c8"
   },
   "outputs": [
    {
     "name": "stdout",
     "output_type": "stream",
     "text": [
      "Shape of the data (410, 18)\n",
      "All the columns in the data Index(['Student', 'Vaccin', 'HndWshQual', 'HndWshFreq', 'SociDist',\n",
      "       'NoFaceContact', 'RespEttiqu', 'PersnDist', 'HandSanit', 'Risk',\n",
      "       'Complications', 'Barriers', 'Inefficacy', 'KnowlTrans', 'KnowlMgmt',\n",
      "       'Sick', 'Flu', 'Female'],\n",
      "      dtype='object')\n"
     ]
    }
   ],
   "source": [
    "# Checking the shape and columns of the data\n",
    "print(\"Shape of the data\",flu_df.shape)\n",
    "print(\"All the columns in the data\",flu_df.columns)"
   ]
  },
  {
   "cell_type": "code",
   "execution_count": 5,
   "metadata": {
    "colab": {
     "base_uri": "https://localhost:8080/"
    },
    "id": "3jPR9346bfch",
    "outputId": "54c535ee-fdfe-4977-ab04-614327ba6d31"
   },
   "outputs": [
    {
     "name": "stdout",
     "output_type": "stream",
     "text": [
      "<class 'pandas.core.frame.DataFrame'>\n",
      "RangeIndex: 410 entries, 0 to 409\n",
      "Data columns (total 18 columns):\n",
      " #   Column         Non-Null Count  Dtype  \n",
      "---  ------         --------------  -----  \n",
      " 0   Student        410 non-null    int64  \n",
      " 1   Vaccin         410 non-null    int64  \n",
      " 2   HndWshQual     410 non-null    int64  \n",
      " 3   HndWshFreq     410 non-null    int64  \n",
      " 4   SociDist       410 non-null    int64  \n",
      " 5   NoFaceContact  410 non-null    int64  \n",
      " 6   RespEttiqu     410 non-null    int64  \n",
      " 7   PersnDist      410 non-null    int64  \n",
      " 8   HandSanit      410 non-null    int64  \n",
      " 9   Risk           410 non-null    float64\n",
      " 10  Complications  410 non-null    float64\n",
      " 11  Barriers       410 non-null    float64\n",
      " 12  Inefficacy     410 non-null    float64\n",
      " 13  KnowlTrans     409 non-null    float64\n",
      " 14  KnowlMgmt      410 non-null    float64\n",
      " 15  Sick           374 non-null    float64\n",
      " 16  Flu            374 non-null    float64\n",
      " 17  Female         375 non-null    float64\n",
      "dtypes: float64(9), int64(9)\n",
      "memory usage: 57.8 KB\n",
      "Datatypes of the data None\n"
     ]
    }
   ],
   "source": [
    "# Checking the datatypes\n",
    "print(\"Datatypes of the data\",flu_df.info())"
   ]
  },
  {
   "cell_type": "code",
   "execution_count": 6,
   "metadata": {
    "colab": {
     "base_uri": "https://localhost:8080/"
    },
    "id": "gF0jfhNPIMfa",
    "outputId": "de9f0f74-e77c-4693-b46e-5ffd27fd66a6"
   },
   "outputs": [
    {
     "data": {
      "text/plain": [
       "Student           0\n",
       "Vaccin            0\n",
       "HndWshQual        0\n",
       "HndWshFreq        0\n",
       "SociDist          0\n",
       "NoFaceContact     0\n",
       "RespEttiqu        0\n",
       "PersnDist         0\n",
       "HandSanit         0\n",
       "Risk              0\n",
       "Complications     0\n",
       "Barriers          0\n",
       "Inefficacy        0\n",
       "KnowlTrans        1\n",
       "KnowlMgmt         0\n",
       "Sick             36\n",
       "Flu              36\n",
       "Female           35\n",
       "dtype: int64"
      ]
     },
     "execution_count": 6,
     "metadata": {},
     "output_type": "execute_result"
    }
   ],
   "source": [
    "# Checking for any missing values in the data\n",
    "flu_df.isna().sum()"
   ]
  },
  {
   "cell_type": "code",
   "execution_count": 9,
   "metadata": {
    "id": "9hEvRpBHIVGR"
   },
   "outputs": [],
   "source": [
    "# Dropping all the records with missing values since the number of missing rows are less\n",
    "flu_df.dropna(inplace = True)"
   ]
  },
  {
   "cell_type": "code",
   "execution_count": 10,
   "metadata": {
    "colab": {
     "base_uri": "https://localhost:8080/"
    },
    "id": "lONP0LGMIZAE",
    "outputId": "bfa1df1f-f019-4055-bae5-c1d16f4be75e"
   },
   "outputs": [
    {
     "data": {
      "text/plain": [
       "Student          0\n",
       "Vaccin           0\n",
       "HndWshQual       0\n",
       "HndWshFreq       0\n",
       "SociDist         0\n",
       "NoFaceContact    0\n",
       "RespEttiqu       0\n",
       "PersnDist        0\n",
       "HandSanit        0\n",
       "Risk             0\n",
       "Complications    0\n",
       "Barriers         0\n",
       "Inefficacy       0\n",
       "KnowlTrans       0\n",
       "KnowlMgmt        0\n",
       "Sick             0\n",
       "Flu              0\n",
       "Female           0\n",
       "dtype: int64"
      ]
     },
     "execution_count": 10,
     "metadata": {},
     "output_type": "execute_result"
    }
   ],
   "source": [
    "#  No missing records in the data\n",
    "flu_df.isna().sum()"
   ]
  },
  {
   "cell_type": "markdown",
   "metadata": {
    "id": "fu0OSJp7bZtY"
   },
   "source": [
    "## 1. Exploratory Data Analysis (30 points)\n",
    "a) Consider the following numeric variables in the dataset: Vaccin, HndWshQual, HndWshFreq, SociDist, NoFaceContact, RespEttiqu, PersnDist, and HandSanit. Summarize the statistics of these variables into count, mean, standard deviation, minimum, 25% percentile, 50% percentile, 75% percentile, and maximum. (5)"
   ]
  },
  {
   "cell_type": "code",
   "execution_count": 11,
   "metadata": {
    "colab": {
     "base_uri": "https://localhost:8080/"
    },
    "id": "DfIbSsJNbUWE",
    "outputId": "93beda25-f5cc-45c1-ac18-d1affc6f32a4"
   },
   "outputs": [
    {
     "name": "stdout",
     "output_type": "stream",
     "text": [
      "Describe statistics of the data\n"
     ]
    },
    {
     "data": {
      "text/html": [
       "<div>\n",
       "<style scoped>\n",
       "    .dataframe tbody tr th:only-of-type {\n",
       "        vertical-align: middle;\n",
       "    }\n",
       "\n",
       "    .dataframe tbody tr th {\n",
       "        vertical-align: top;\n",
       "    }\n",
       "\n",
       "    .dataframe thead th {\n",
       "        text-align: right;\n",
       "    }\n",
       "</style>\n",
       "<table border=\"1\" class=\"dataframe\">\n",
       "  <thead>\n",
       "    <tr style=\"text-align: right;\">\n",
       "      <th></th>\n",
       "      <th>Vaccin</th>\n",
       "      <th>HndWshQual</th>\n",
       "      <th>HndWshFreq</th>\n",
       "      <th>SociDist</th>\n",
       "      <th>NoFaceContact</th>\n",
       "      <th>RespEttiqu</th>\n",
       "      <th>PersnDist</th>\n",
       "      <th>HandSanit</th>\n",
       "    </tr>\n",
       "  </thead>\n",
       "  <tbody>\n",
       "    <tr>\n",
       "      <th>count</th>\n",
       "      <td>351.000000</td>\n",
       "      <td>351.000000</td>\n",
       "      <td>351.000000</td>\n",
       "      <td>351.000000</td>\n",
       "      <td>351.000000</td>\n",
       "      <td>351.000000</td>\n",
       "      <td>351.000000</td>\n",
       "      <td>351.000000</td>\n",
       "    </tr>\n",
       "    <tr>\n",
       "      <th>mean</th>\n",
       "      <td>3.393162</td>\n",
       "      <td>3.917379</td>\n",
       "      <td>3.222222</td>\n",
       "      <td>2.911681</td>\n",
       "      <td>2.467236</td>\n",
       "      <td>4.193732</td>\n",
       "      <td>3.407407</td>\n",
       "      <td>2.806268</td>\n",
       "    </tr>\n",
       "    <tr>\n",
       "      <th>std</th>\n",
       "      <td>1.368778</td>\n",
       "      <td>1.020650</td>\n",
       "      <td>1.132212</td>\n",
       "      <td>1.176268</td>\n",
       "      <td>1.255130</td>\n",
       "      <td>1.212820</td>\n",
       "      <td>1.149833</td>\n",
       "      <td>1.606083</td>\n",
       "    </tr>\n",
       "    <tr>\n",
       "      <th>min</th>\n",
       "      <td>1.000000</td>\n",
       "      <td>1.000000</td>\n",
       "      <td>1.000000</td>\n",
       "      <td>1.000000</td>\n",
       "      <td>1.000000</td>\n",
       "      <td>1.000000</td>\n",
       "      <td>1.000000</td>\n",
       "      <td>1.000000</td>\n",
       "    </tr>\n",
       "    <tr>\n",
       "      <th>25%</th>\n",
       "      <td>2.000000</td>\n",
       "      <td>3.000000</td>\n",
       "      <td>3.000000</td>\n",
       "      <td>2.000000</td>\n",
       "      <td>2.000000</td>\n",
       "      <td>3.000000</td>\n",
       "      <td>3.000000</td>\n",
       "      <td>1.000000</td>\n",
       "    </tr>\n",
       "    <tr>\n",
       "      <th>50%</th>\n",
       "      <td>3.000000</td>\n",
       "      <td>4.000000</td>\n",
       "      <td>3.000000</td>\n",
       "      <td>3.000000</td>\n",
       "      <td>2.000000</td>\n",
       "      <td>5.000000</td>\n",
       "      <td>3.000000</td>\n",
       "      <td>3.000000</td>\n",
       "    </tr>\n",
       "    <tr>\n",
       "      <th>75%</th>\n",
       "      <td>5.000000</td>\n",
       "      <td>5.000000</td>\n",
       "      <td>4.000000</td>\n",
       "      <td>3.000000</td>\n",
       "      <td>3.000000</td>\n",
       "      <td>5.000000</td>\n",
       "      <td>4.000000</td>\n",
       "      <td>4.000000</td>\n",
       "    </tr>\n",
       "    <tr>\n",
       "      <th>max</th>\n",
       "      <td>9.000000</td>\n",
       "      <td>5.000000</td>\n",
       "      <td>5.000000</td>\n",
       "      <td>5.000000</td>\n",
       "      <td>9.000000</td>\n",
       "      <td>9.000000</td>\n",
       "      <td>9.000000</td>\n",
       "      <td>5.000000</td>\n",
       "    </tr>\n",
       "  </tbody>\n",
       "</table>\n",
       "</div>"
      ],
      "text/plain": [
       "           Vaccin  HndWshQual  HndWshFreq    SociDist  NoFaceContact  \\\n",
       "count  351.000000  351.000000  351.000000  351.000000     351.000000   \n",
       "mean     3.393162    3.917379    3.222222    2.911681       2.467236   \n",
       "std      1.368778    1.020650    1.132212    1.176268       1.255130   \n",
       "min      1.000000    1.000000    1.000000    1.000000       1.000000   \n",
       "25%      2.000000    3.000000    3.000000    2.000000       2.000000   \n",
       "50%      3.000000    4.000000    3.000000    3.000000       2.000000   \n",
       "75%      5.000000    5.000000    4.000000    3.000000       3.000000   \n",
       "max      9.000000    5.000000    5.000000    5.000000       9.000000   \n",
       "\n",
       "       RespEttiqu   PersnDist   HandSanit  \n",
       "count  351.000000  351.000000  351.000000  \n",
       "mean     4.193732    3.407407    2.806268  \n",
       "std      1.212820    1.149833    1.606083  \n",
       "min      1.000000    1.000000    1.000000  \n",
       "25%      3.000000    3.000000    1.000000  \n",
       "50%      5.000000    3.000000    3.000000  \n",
       "75%      5.000000    4.000000    4.000000  \n",
       "max      9.000000    9.000000    5.000000  "
      ]
     },
     "execution_count": 11,
     "metadata": {},
     "output_type": "execute_result"
    }
   ],
   "source": [
    "# Printing the describe stats for specified features\n",
    "stats = flu_df[['Vaccin', 'HndWshQual', 'HndWshFreq', 'SociDist', 'NoFaceContact', 'RespEttiqu', 'PersnDist', 'HandSanit']]\n",
    "print(\"Describe statistics of the data\")\n",
    "stats.describe()"
   ]
  },
  {
   "cell_type": "markdown",
   "metadata": {
    "id": "kn6f_XvFbwor"
   },
   "source": [
    "b) Is there a way to encode female variable as a categorical/string data type? If so, how would you do that? Similarly, explain how would you encode the variable sick and flu from numeric type to categorical type?\n",
    "Description of Female, Sick and Flu variables:\n",
    "• For Female (1 = yes; 0 = no)\n",
    "• Whether or not the person has been sick in the past year (0 = not; 1 = cold-like symptoms; 2 = flu-like symptoms)\n",
    "• Whether or not the person has had a flu-like illness in the past year (0 = not; 1 = flu-like symptoms)"
   ]
  },
  {
   "cell_type": "code",
   "execution_count": 12,
   "metadata": {
    "id": "8svIC4N8cSlo"
   },
   "outputs": [],
   "source": [
    "# Encode \"Female\" variable as a string\n",
    "flu_df[\"Female\"] = flu_df[\"Female\"].apply(lambda x: \"female\" if x == 1 else \"male\")\n",
    "\n",
    "# Encode \"Sick\" variable as a string\n",
    "flu_df[\"Sick\"] = flu_df[\"Sick\"].apply(lambda x: \"not\" if x == 0 else \"cold\" if x == 1 else \"flu\")\n",
    "\n",
    "# Encode \"Flu\" variable as a string\n",
    "flu_df[\"Flu\"] = flu_df[\"Flu\"].apply(lambda x: \"not\" if x == 0 else \"flu\")"
   ]
  },
  {
   "cell_type": "markdown",
   "metadata": {
    "id": "EEDMb0ZOdLr9"
   },
   "source": [
    "c) Consider the above converted categorical variables in the dataset: gender, sick and flu. Summarize the statistics of these variables into count, unique value, top value, and frequency of top value."
   ]
  },
  {
   "cell_type": "code",
   "execution_count": 13,
   "metadata": {
    "colab": {
     "base_uri": "https://localhost:8080/"
    },
    "id": "TJL_-iFhdYBK",
    "outputId": "a9e8bb70-cf42-4fff-ec14-5c55afcedf7d"
   },
   "outputs": [
    {
     "name": "stdout",
     "output_type": "stream",
     "text": [
      "Variable: Female\n",
      "count        351\n",
      "unique         2\n",
      "top       female\n",
      "freq         190\n",
      "Name: Female, dtype: object\n",
      "\n",
      "\n",
      "Variable: Sick\n",
      "count      351\n",
      "unique       3\n",
      "top       cold\n",
      "freq       203\n",
      "Name: Sick, dtype: object\n",
      "\n",
      "\n",
      "Variable: Flu\n",
      "count     351\n",
      "unique      2\n",
      "top       not\n",
      "freq      283\n",
      "Name: Flu, dtype: object\n",
      "\n",
      "\n"
     ]
    }
   ],
   "source": [
    "# Female\n",
    "# Summarize statistics of categorical variables\n",
    "categorical_variables = [\"Female\", \"Sick\", \"Flu\"]\n",
    "for var in categorical_variables:\n",
    "    print(\"Variable:\", var)\n",
    "    print(flu_df[var].describe())\n",
    "    print(\"\\n\")"
   ]
  },
  {
   "cell_type": "markdown",
   "metadata": {
    "id": "wklk0ND_eaGs"
   },
   "source": [
    "d) Do you think there is any redundant feature present in the dataset. If so, explain how removing it won't impact the analysis. Also, based on the experiments so far, were there any interesting observations for the variables?"
   ]
  },
  {
   "cell_type": "markdown",
   "metadata": {
    "id": "UYxff7GYHkuF"
   },
   "source": [
    "HndWshQual, Inefficacy, Barriers features seem to be redundant because of the quality of which it is obtained. For rest other features, those are standard measures picked from data. whereas these features has the manual aspect which may not be true all times. "
   ]
  },
  {
   "cell_type": "markdown",
   "metadata": {
    "id": "Eew0wWKpe49O"
   },
   "source": [
    "e) What is the correlation between SociDist and PersnDist? Does this imply that people who maintain social distancing also tend to maintain personal distance? (5)"
   ]
  },
  {
   "cell_type": "code",
   "execution_count": 14,
   "metadata": {
    "colab": {
     "base_uri": "https://localhost:8080/"
    },
    "id": "G6Dg4S9de811",
    "outputId": "20feea04-b919-4cc7-9f2b-a24a55252fdb"
   },
   "outputs": [
    {
     "name": "stdout",
     "output_type": "stream",
     "text": [
      "Correlation between SociDist and PersnDist: 0.11329107160936322\n"
     ]
    }
   ],
   "source": [
    "# Calculate correlation between \"SociDist\" and \"PersnDist\" variables\n",
    "correlation = flu_df[\"SociDist\"].corr(flu_df[\"PersnDist\"])\n",
    "print(\"Correlation between SociDist and PersnDist:\", correlation)"
   ]
  },
  {
   "cell_type": "markdown",
   "metadata": {
    "id": "wm3mzvp9fu9h"
   },
   "source": [
    "# 2. Logistic Regression with One Variable (20 points)\n",
    "a) Can you map the Risk (Risk) of contracting influenza (x) to Flu (y) i.e., whether the student reported flu-like symptoms in the past year?"
   ]
  },
  {
   "cell_type": "code",
   "execution_count": 15,
   "metadata": {
    "id": "JJixVAfT8iZC"
   },
   "outputs": [],
   "source": [
    "# Sigmoid function\n",
    "def sigmoid(X, weight):\n",
    "    z = np.dot(X, weight)\n",
    "    return 1 / (1 + np.exp(-z))\n",
    "\n",
    "# Loss function\n",
    "def loss(h, y):\n",
    "    return (-y * np.log(h) - (1 - y) * np.log(1 - h)).mean()\n",
    "\n",
    "# Gradient function\n",
    "def gradient_descent(X, h, y):\n",
    "    return np.dot(X.T, (h - y)) / y.shape[0]\n",
    "\n",
    "# Weight loss function\n",
    "def update_weight_loss(weight, learning_rate, gradient):\n",
    "    return weight - learning_rate * gradient"
   ]
  },
  {
   "cell_type": "code",
   "execution_count": 16,
   "metadata": {
    "id": "Y1YLj2YFfpk2"
   },
   "outputs": [],
   "source": [
    "# Assigning the specified features to x and y\n",
    "X = flu_df[['Risk']]\n",
    "y = flu_df['Flu']\n",
    "\n",
    "# Encoding the y column to numerical\n",
    "y.replace(['not','flu'] , [0,1],inplace = True)\n",
    "\n",
    "num_iter = 100000\n",
    "\n",
    "# Calling the intercept and calculating the theta value\n",
    "intercept = np.ones((X.shape[0], 1)) \n",
    "X = np.concatenate((intercept, X), axis=1)\n",
    "theta = np.zeros(X.shape[1])\n",
    "\n",
    "for i in range(num_iter):\n",
    "    h = sigmoid(X, theta)\n",
    "    gradient = gradient_descent(X, h, y)\n",
    "    theta = update_weight_loss(theta, 0.1, gradient)\n"
   ]
  },
  {
   "cell_type": "markdown",
   "metadata": {
    "id": "tHIb_mLthjme"
   },
   "source": [
    "b) Evaluate performance using a metric discussed in class (such as confusion matrix). You may also use graphs for explaining your observations."
   ]
  },
  {
   "cell_type": "code",
   "execution_count": 17,
   "metadata": {
    "colab": {
     "base_uri": "https://localhost:8080/"
    },
    "id": "Tz5u9cByAtOQ",
    "outputId": "2774cab2-77be-442a-940d-d5bc8e4862c2"
   },
   "outputs": [
    {
     "name": "stdout",
     "output_type": "stream",
     "text": [
      "Accuracy : 63.817663817663814\n"
     ]
    }
   ],
   "source": [
    "result = sigmoid(X, theta)\n",
    "\n",
    "# Calculating accuracy\n",
    "res_table = pd.DataFrame(np.around(result, decimals=6)).join(y)\n",
    "res_table['prediction'] = res_table[0].apply(lambda x : 0 if x < 0.5 else 1)\n",
    "\n",
    "print(\"Accuracy :\", res_table.loc[res_table['prediction']==res_table['Flu']].shape[0] / res_table.shape[0] * 100)"
   ]
  },
  {
   "cell_type": "code",
   "execution_count": 18,
   "metadata": {
    "colab": {
     "base_uri": "https://localhost:8080/",
     "height": 449
    },
    "id": "C3oM9n-Xgw9U",
    "outputId": "fc17e90a-a09d-4c1b-d520-e70f59661511"
   },
   "outputs": [
    {
     "name": "stdout",
     "output_type": "stream",
     "text": [
      "CONFUSION MATRIX\n",
      "[[275  17]\n",
      " [ 59   0]]\n"
     ]
    },
    {
     "data": {
      "image/png": "[encoded data removed]",
      "text/plain": [
       "<Figure size 640x480 with 2 Axes>"
      ]
     },
     "metadata": {},
     "output_type": "display_data"
    }
   ],
   "source": [
    "\n",
    "# Calculate the confusion matrix\n",
    "confusion_matrix = metrics.confusion_matrix(res_table['Flu'].fillna(0),res_table['prediction'])\n",
    "print(\"CONFUSION MATRIX\")\n",
    "print(confusion_matrix)\n",
    "cm_display = metrics.ConfusionMatrixDisplay(confusion_matrix = confusion_matrix, display_labels = [False, True])\n",
    "cm_display.plot()\n",
    "plt.show()"
   ]
  },
  {
   "cell_type": "markdown",
   "metadata": {
    "id": "wUDjWZkkiXGs"
   },
   "source": [
    "# 3. Logistic Regression with Multiple Variables (40 points)\n",
    "a) Design a Logistic Regression model to predict whether a student reported flu-like symptoms in the past year i.e., Flu(y) using below 12 variables in the dataset as input variables:\n",
    "Vaccin, HndWshQual, HndWshFreq, SociDist, NoFaceContact, RespEttiqu, PersnDist, HandSanit, Risk, Inefficacy, KnowlTrans, KnowlMgmt"
   ]
  },
  {
   "cell_type": "code",
   "execution_count": 18,
   "metadata": {
    "id": "aB_4K3Jqh-AI"
   },
   "outputs": [],
   "source": [
    "# Considering all the features mentioned in the question\n",
    "feat = ['Vaccin', 'HndWshQual', 'HndWshFreq', 'SociDist', 'NoFaceContact', 'RespEttiqu',\n",
    "          'PersnDist', 'HandSanit', 'Risk', 'Inefficacy', 'KnowlTrans', 'KnowlMgmt']\n",
    "\n",
    "X = flu_df[feat]\n",
    "y = flu_df['Flu']"
   ]
  },
  {
   "cell_type": "code",
   "execution_count": 19,
   "metadata": {
    "id": "2pmL44h2i0tF"
   },
   "outputs": [],
   "source": [
    "# Encoding the y column to numerical\n",
    "y.replace(['not','flu'] , [0,1],inplace = True)\n",
    "\n",
    "# Calling the intercept and calculating the theta value\n",
    "intercept = np.ones((X.shape[0], 1)) \n",
    "X = np.concatenate((intercept, X), axis=1)\n",
    "theta = np.zeros(X.shape[1])\n",
    "\n",
    "for i in range(num_iter):\n",
    "    h = sigmoid(X, theta)\n",
    "    gradient = gradient_descent(X, h, y)\n",
    "    theta = update_weight_loss(theta, 0.1, gradient)"
   ]
  },
  {
   "cell_type": "code",
   "execution_count": 20,
   "metadata": {
    "colab": {
     "base_uri": "https://localhost:8080/"
    },
    "id": "t17SArHONsWk",
    "outputId": "230314cc-5a45-4dd4-fc21-9444a418fea2"
   },
   "outputs": [
    {
     "name": "stdout",
     "output_type": "stream",
     "text": [
      "Accuracy of logistic regression model for 3a : 64.38746438746439\n"
     ]
    }
   ],
   "source": [
    "result = sigmoid(X, theta)\n",
    "\n",
    "# Calculating accuracy\n",
    "res_table = pd.DataFrame(np.around(result, decimals=6)).join(y)\n",
    "res_table['prediction'] = res_table[0].apply(lambda x : 0 if x < 0.5 else 1)\n",
    "\n",
    "print(\"Accuracy of logistic regression model for 3a :\", res_table.loc[res_table['prediction'] == res_table['Flu']].shape[0] / res_table.shape[0] * 100)"
   ]
  },
  {
   "cell_type": "code",
   "execution_count": 21,
   "metadata": {
    "colab": {
     "base_uri": "https://localhost:8080/",
     "height": 449
    },
    "id": "VlfXNwXnPx2r",
    "outputId": "7a4de57d-cb0f-4379-c00d-c448a806509d"
   },
   "outputs": [
    {
     "name": "stdout",
     "output_type": "stream",
     "text": [
      "CONFUSION MATRIX\n",
      "[[270  22]\n",
      " [ 54   5]]\n"
     ]
    },
    {
     "data": {
      "image/png": "[encoded data removed]",
      "text/plain": [
       "<Figure size 640x480 with 2 Axes>"
      ]
     },
     "metadata": {},
     "output_type": "display_data"
    }
   ],
   "source": [
    "# Calculate the confusion matrix\n",
    "confusion_matrix = metrics.confusion_matrix(res_table['Flu'].fillna(0),res_table['prediction'])\n",
    "print(\"CONFUSION MATRIX\")\n",
    "print(confusion_matrix)\n",
    "cm_display = metrics.ConfusionMatrixDisplay(confusion_matrix = confusion_matrix, display_labels = [False, True])\n",
    "\n",
    "cm_display.plot()\n",
    "plt.show()"
   ]
  },
  {
   "cell_type": "markdown",
   "metadata": {
    "id": "vweREP12i_h0"
   },
   "source": [
    "b) Design a Logistic Regression model to predict whether a student reported flu-like symptoms in the past year i.e., Flu(y) using forward selection to select most significant variables in the dataset as input variables. Which subset of features gave you the best performance? What are your thoughts on these features getting selected?"
   ]
  },
  {
   "cell_type": "code",
   "execution_count": 22,
   "metadata": {
    "colab": {
     "base_uri": "https://localhost:8080/"
    },
    "id": "v0-EgsHRi18k",
    "outputId": "986c8c7a-576e-46f3-c8ca-6e4eff25f17b"
   },
   "outputs": [
    {
     "name": "stdout",
     "output_type": "stream",
     "text": [
      "Best feature combination: ('Vaccin', 'PersnDist', 'HandSanit')\n",
      "Accuracy of logistic regression model for 3b: 68.09116809116809\n"
     ]
    }
   ],
   "source": [
    "# Define the list of features\n",
    "feat = ['Vaccin', 'HndWshQual', 'HndWshFreq', 'SociDist', 'NoFaceContact', 'RespEttiqu',\n",
    "          'PersnDist', 'HandSanit', 'Risk', 'Inefficacy', 'KnowlTrans', 'KnowlMgmt']\n",
    "\n",
    "# Define the minimum and maximum number of features to include in a combination\n",
    "min_features = 2\n",
    "max_features = 6\n",
    "\n",
    "# Split data into training and testing sets\n",
    "X_train, X_test, y_train, y_test = train_test_split(flu_df[feat], flu_df[\"Flu\"], test_size=0.2)\n",
    "\n",
    "best_accuracy = 0\n",
    "best_feat_combination = []\n",
    "best_classification_model = []\n",
    "y_test_best = 0\n",
    "y_pred_best = 0\n",
    "\n",
    "# Try all possible combinations of features\n",
    "for num_features in range(min_features, max_features+1):\n",
    "    for feat_combination in itertools.combinations(feat, num_features):\n",
    "        X_train_subset = X_train[list(feat_combination)]\n",
    "        X_test_subset = X_test[list(feat_combination)]\n",
    "        \n",
    "        # Train a logistic regression model\n",
    "        num_iter = 100\n",
    "\n",
    "        # Calling the intercept and calculating the theta value\n",
    "        intercept = np.ones((X.shape[0], 1)) \n",
    "        X = np.concatenate((intercept, X), axis=1)\n",
    "        theta = np.zeros(X.shape[1])\n",
    "\n",
    "        for i in range(num_iter):\n",
    "            h = sigmoid(X, theta)\n",
    "            gradient = gradient_descent(X, h, y)\n",
    "            theta = update_weight_loss(theta, 0.1, gradient)\n",
    "        \n",
    "        result = sigmoid(X, theta)\n",
    "\n",
    "        res_table = pd.DataFrame(np.around(result, decimals=6)).join(y)\n",
    "        res_table['prediction'] = res_table[0].apply(lambda x : 0 if x < 0.5 else 1)\n",
    "\n",
    "        accuracy = res_table.loc[res_table['prediction'] == res_table['Flu']].shape[0] / res_table.shape[0] * 100\n",
    "\n",
    "        # Update best accuracy and feature combination\n",
    "        if accuracy > best_accuracy:\n",
    "            best_accuracy = accuracy\n",
    "            best_feat_combination = feat_combination\n",
    "            y_pred_best = res_table['prediction']\n",
    "            y_test_best = res_table['Flu']\n",
    "\n",
    "print(\"Best feature combination:\", best_feat_combination)\n",
    "print(\"Accuracy of logistic regression model for 3b:\", best_accuracy)"
   ]
  },
  {
   "cell_type": "code",
   "execution_count": 25,
   "metadata": {
    "colab": {
     "base_uri": "https://localhost:8080/",
     "height": 449
    },
    "id": "BTIdzo2nBhq6",
    "outputId": "009fef85-968f-4438-e1fe-d060c16c20b6"
   },
   "outputs": [
    {
     "name": "stdout",
     "output_type": "stream",
     "text": [
      "CONFUSION MATRIX\n",
      "[[292   0]\n",
      " [ 58   1]]\n"
     ]
    },
    {
     "data": {
      "image/png": "[encoded data removed]",
      "text/plain": [
       "<Figure size 640x480 with 2 Axes>"
      ]
     },
     "metadata": {},
     "output_type": "display_data"
    }
   ],
   "source": [
    "# Calculate the confusion matrix\n",
    "confusion_matrix = metrics.confusion_matrix(y_test_best.fillna(0),y_pred_best)\n",
    "print(\"CONFUSION MATRIX\")\n",
    "print(confusion_matrix)\n",
    "cm_display = metrics.ConfusionMatrixDisplay(confusion_matrix = confusion_matrix, display_labels = [False, True])\n",
    "cm_display.plot()\n",
    "plt.show()"
   ]
  },
  {
   "cell_type": "markdown",
   "metadata": {
    "id": "lUpo-OyKQBaC"
   },
   "source": [
    "\n",
    "c) Compare the performance of the full model built using all the features in (3a) with the resultant accuracies of the full model using the selected features (3b). Which set of features performed better?\n",
    "\n",
    "Evaluate performance of your models using a metric discussed in class (such as confusion matrix). You may also use graphs for explaining your observations"
   ]
  },
  {
   "cell_type": "markdown",
   "metadata": {
    "id": "zdmiqAVzI6fJ"
   },
   "source": [
    "\n",
    "\n",
    "*   The accuracy of model 3a is 64.38 with 275 records correctly predicted and 76 records incorrectly predicted. \n",
    "*   The accuracy of model 3b is 68.09 with 293 records correctly predicted and 58 records incorrectly predicted. \n",
    "\n",
    "With the above stats, it is evident that the model 3b using feature selection is better model. The set of features 'Vaccin', 'PersnDist', 'HandSanit' are performing well"
   ]
  },
  {
   "cell_type": "markdown",
   "metadata": {
    "id": "e3muU6qhQDxL"
   },
   "source": [
    "## 4. Experimenting with regularization and Cost function.\n",
    "a) Regularization and Feature Scaling: (20 points)\n",
    "I. For the best performing model in Q 3 (Model from 3c), does regularization improve the performance?\n",
    "II. Does Feature Scaling improve the performance for the model in Q 4a?\n",
    "Evaluate performance for each case using a metric discussed in class (such as confusion matrix). You may also use graphs for explaining your observations."
   ]
  },
  {
   "cell_type": "code",
   "execution_count": 23,
   "metadata": {
    "id": "wxVznPAnLX-j"
   },
   "outputs": [],
   "source": [
    "def sigmoid(X, weight):\n",
    "    z = np.dot(X, weight)\n",
    "    return 1 / (1 + np.exp(-z))\n",
    "\n",
    "# Updated with regularization by adding lambda to loss function\n",
    "def loss(h, y, weight, lambda_):\n",
    "    regularization = lambda_ * np.sum(np.square(weight))\n",
    "    return (-y * np.log(h) - (1 - y) * np.log(1 - h)).mean() + regularization\n",
    "\n",
    "# Updated with regularization by adding lambda to gradient descent function\n",
    "def gradient_descent(X, h, y, weight, lambda_):\n",
    "    regularization = 2 * lambda_ * weight\n",
    "    return np.dot(X.T, (h - y)) / y.shape[0] + regularization\n",
    "\n",
    "def update_weight_loss(weight, learning_rate, gradient):\n",
    "    return weight - learning_rate * gradient"
   ]
  },
  {
   "cell_type": "code",
   "execution_count": 24,
   "metadata": {
    "colab": {
     "base_uri": "https://localhost:8080/"
    },
    "id": "z55togQRQaEk",
    "outputId": "fca8c6f8-ece1-43a1-922e-609a788e9ae6"
   },
   "outputs": [
    {
     "name": "stdout",
     "output_type": "stream",
     "text": [
      "iteration 0: loss = 0.6931500177102119\n",
      "iteration 100: loss = 0.5124789950968393\n",
      "iteration 200: loss = 0.5118204848230525\n",
      "iteration 300: loss = 0.5112781221051909\n",
      "iteration 400: loss = 0.5108021546458208\n",
      "iteration 500: loss = 0.5103697847819189\n",
      "iteration 600: loss = 0.5099697997821687\n",
      "iteration 700: loss = 0.5095963337257838\n",
      "iteration 800: loss = 0.5092460152148004\n",
      "iteration 900: loss = 0.5089166583070815\n"
     ]
    }
   ],
   "source": [
    "# 4a-1\n",
    "X = flu_df[list(best_feat_combination)]\n",
    "y = flu_df['Flu']\n",
    "\n",
    "# add bias term to X\n",
    "X = np.hstack((np.ones((X.shape[0], 1)), X))\n",
    "\n",
    "# initialize weights\n",
    "weight = np.zeros(X.shape[1])\n",
    "\n",
    "# set hyperparameters\n",
    "learning_rate = 0.01\n",
    "num_iterations = 1000\n",
    "lambda_ = 0.01  # regularization strength\n",
    "\n",
    "# train logistic regression model using gradient descent with L2 regularization\n",
    "for i in range(num_iterations):\n",
    "    h = sigmoid(X, weight)\n",
    "    grad = gradient_descent(X, h, y, weight, lambda_)\n",
    "    weight = update_weight_loss(weight, learning_rate, grad)\n",
    "    if i % 100 == 0:\n",
    "        loss_value = loss(h, y, weight, lambda_)\n",
    "        print(f\"iteration {i}: loss = {loss_value}\")"
   ]
  },
  {
   "cell_type": "code",
   "execution_count": 25,
   "metadata": {
    "colab": {
     "base_uri": "https://localhost:8080/"
    },
    "id": "wOHc4kP_Q2ON",
    "outputId": "aa80a265-3021-4a86-9efa-e47d49d8b0b1"
   },
   "outputs": [
    {
     "name": "stdout",
     "output_type": "stream",
     "text": [
      "Accuracy for regularization model: 67.80626780626781\n"
     ]
    }
   ],
   "source": [
    "result = sigmoid(X, weight)\n",
    "\n",
    "res_table = pd.DataFrame(np.around(result, decimals=6)).join(y)\n",
    "res_table['prediction'] = res_table[0].apply(lambda x : 0 if x < 0.5 else 1)\n",
    "\n",
    "print(\"Accuracy for regularization model:\", res_table.loc[res_table['prediction'] == res_table['Flu']].shape[0] / res_table.shape[0] * 100)"
   ]
  },
  {
   "cell_type": "code",
   "execution_count": 26,
   "metadata": {
    "colab": {
     "base_uri": "https://localhost:8080/"
    },
    "id": "qVoahO8kqnVY",
    "outputId": "2eb2a265-d0a0-4af6-b922-627af38c5f1c"
   },
   "outputs": [
    {
     "name": "stdout",
     "output_type": "stream",
     "text": [
      "iteration 0: loss = 0.6931473091340399\n",
      "iteration 100: loss = 0.6022743384717729\n",
      "iteration 200: loss = 0.5582064957559876\n",
      "iteration 300: loss = 0.5359338475541248\n",
      "iteration 400: loss = 0.5242034802181041\n",
      "iteration 500: loss = 0.5178034175300622\n",
      "iteration 600: loss = 0.5142057530786127\n",
      "iteration 700: loss = 0.51212908385852\n",
      "iteration 800: loss = 0.5108991954982335\n",
      "iteration 900: loss = 0.5101505141409586\n"
     ]
    }
   ],
   "source": [
    "#4a-2\n",
    "X = flu_df[list(best_feat_combination)]\n",
    "y = flu_df['Flu']\n",
    "\n",
    "scaler = MinMaxScaler()\n",
    "X_scaled = scaler.fit_transform(X)\n",
    "\n",
    "# add bias term to X\n",
    "X = np.hstack((np.ones((X_scaled.shape[0], 1)), X_scaled))\n",
    "\n",
    "# initialize weights\n",
    "weight = np.zeros(X.shape[1])\n",
    "\n",
    "# set hyperparameters\n",
    "learning_rate = 0.01\n",
    "num_iterations = 1000\n",
    "lambda_ = 0.01  # regularization strength\n",
    "\n",
    "# train logistic regression model using gradient descent with L2 regularization\n",
    "for i in range(num_iterations):\n",
    "    h = sigmoid(X, weight)\n",
    "    grad = gradient_descent(X, h, y, weight, lambda_)\n",
    "    weight = update_weight_loss(weight, learning_rate, grad)\n",
    "    if i % 100 == 0:\n",
    "        loss_value = loss(h, y, weight, lambda_)\n",
    "        print(f\"iteration {i}: loss = {loss_value}\")\n",
    "\n"
   ]
  },
  {
   "cell_type": "code",
   "execution_count": 27,
   "metadata": {
    "colab": {
     "base_uri": "https://localhost:8080/"
    },
    "id": "CaQZeGYkQ8rf",
    "outputId": "97c3f1ed-ae95-4745-a926-a5b4d2a482eb"
   },
   "outputs": [
    {
     "name": "stdout",
     "output_type": "stream",
     "text": [
      "Accuracy for scaling model : 67.80626780626781\n"
     ]
    }
   ],
   "source": [
    "result = sigmoid(X, weight)\n",
    "\n",
    "# Calculating accuracy\n",
    "res_table = pd.DataFrame(np.around(result, decimals=6)).join(y)\n",
    "res_table['prediction'] = res_table[0].apply(lambda x : 0 if x < 0.5 else 1)\n",
    "\n",
    "print(\"Accuracy for scaling model :\", res_table.loc[res_table['prediction'] == res_table['Flu']].shape[0] / res_table.shape[0] * 100)"
   ]
  },
  {
   "cell_type": "code",
   "execution_count": 28,
   "metadata": {
    "colab": {
     "base_uri": "https://localhost:8080/",
     "height": 449
    },
    "id": "Nl3WzGCWQ-Zx",
    "outputId": "692e6109-4d07-4a49-c88e-5af982f03eff"
   },
   "outputs": [
    {
     "name": "stdout",
     "output_type": "stream",
     "text": [
      "CONFUSION MATRIX\n",
      "[[292   0]\n",
      " [ 59   0]]\n"
     ]
    },
    {
     "data": {
      "image/png": "[encoded data removed]",
      "text/plain": [
       "<Figure size 640x480 with 2 Axes>"
      ]
     },
     "metadata": {},
     "output_type": "display_data"
    }
   ],
   "source": [
    "# Calculate the confusion matrix\n",
    "confusion_matrix = metrics.confusion_matrix(res_table['Flu'].fillna(0),res_table['prediction'])\n",
    "print(\"CONFUSION MATRIX\")\n",
    "print(confusion_matrix)\n",
    "cm_display = metrics.ConfusionMatrixDisplay(confusion_matrix = confusion_matrix, display_labels = [False, True])\n",
    "\n",
    "cm_display.plot()\n",
    "plt.show()"
   ]
  },
  {
   "cell_type": "markdown",
   "metadata": {
    "id": "VEb8jU_iQmuu"
   },
   "source": [
    "b) Cost Function: (15 points)\n",
    "I. Keeping the best regularized (or not) model after the experiments from 4a, design a Logistic Regression model to predict whether a student reported flu-like symptoms in the past year i.e., Flu(y) by changing the cost function to the following.\n"
   ]
  },
  {
   "cell_type": "code",
   "execution_count": 29,
   "metadata": {
    "id": "ZoZu5kIBMmHv"
   },
   "outputs": [],
   "source": [
    "def sigmoid(X, weight):\n",
    "    z = np.dot(X, weight)\n",
    "    return 1 / (1 + np.exp(-z))\n",
    "\n",
    "# Updated the loss function to the given\n",
    "def loss(X,h, y):\n",
    "    return np.sum(np.square(h - y)) / (2 * len(X))\n",
    "\n",
    "def gradient_descent(X, h, y):\n",
    "    return np.dot(X.T, (h - y)) / y.shape[0]\n",
    "\n",
    "def update_weight_loss(weight, learning_rate, gradient):\n",
    "    return weight - learning_rate * gradient\n",
    "\n",
    "def gradient_ascent(X, h, y):\n",
    "    return np.dot(X.T, y - h)\n",
    "    \n",
    "def update_weight_mle(weight, learning_rate, gradient):\n",
    "    return weight + learning_rate * gradient"
   ]
  },
  {
   "cell_type": "code",
   "execution_count": 30,
   "metadata": {
    "id": "3BxUL8OsNa8Y"
   },
   "outputs": [],
   "source": [
    "\n",
    "X = flu_df[list(best_feat_combination)]\n",
    "y = flu_df['Flu']\n",
    "\n",
    "# Encoding the y column to numerical\n",
    "y.replace(['not','flu'] , [0,1],inplace = True)\n",
    "\n",
    "start_time = time.time()\n",
    "\n",
    "num_iter = 100000\n",
    "\n",
    "# Calling the intercept and calculating the theta value\n",
    "intercept = np.ones((X.shape[0], 1)) \n",
    "X = np.concatenate((intercept, X), axis=1)\n",
    "theta = np.zeros(X.shape[1])\n",
    "\n",
    "for i in range(num_iter):\n",
    "    h = sigmoid(X, theta)\n",
    "    gradient = gradient_descent(X, h, y)\n",
    "    theta = update_weight_loss(theta, 0.1, gradient)\n",
    "    "
   ]
  },
  {
   "cell_type": "code",
   "execution_count": 31,
   "metadata": {
    "colab": {
     "base_uri": "https://localhost:8080/"
    },
    "id": "dL-eqwRnOLSq",
    "outputId": "41d195bb-4489-4eee-ad23-0a29ef119683"
   },
   "outputs": [
    {
     "name": "stdout",
     "output_type": "stream",
     "text": [
      "Accuracy of updated cost function: 67.80626780626781\n"
     ]
    }
   ],
   "source": [
    "result = sigmoid(X, weight)\n",
    "\n",
    "# Calculating accuracy\n",
    "res_table = pd.DataFrame(np.around(result, decimals=6)).join(y)\n",
    "res_table['prediction'] = res_table[0].apply(lambda x : 0 if x < 0.5 else 1)\n",
    "\n",
    "print(\"Accuracy of updated cost function:\", res_table.loc[res_table['prediction'] == res_table['Flu']].shape[0] / res_table.shape[0] * 100)"
   ]
  },
  {
   "cell_type": "code",
   "execution_count": 32,
   "metadata": {
    "colab": {
     "base_uri": "https://localhost:8080/",
     "height": 449
    },
    "id": "fLec63dSRQ5D",
    "outputId": "5100d773-5a0b-4b76-a0b4-57ec94f8642c"
   },
   "outputs": [
    {
     "name": "stdout",
     "output_type": "stream",
     "text": [
      "CONFUSION MATRIX\n",
      "[[292   0]\n",
      " [ 59   0]]\n"
     ]
    },
    {
     "data": {
      "image/png": "[encoded data removed]",
      "text/plain": [
       "<Figure size 640x480 with 2 Axes>"
      ]
     },
     "metadata": {},
     "output_type": "display_data"
    }
   ],
   "source": [
    "# Calculate the confusion matrix\n",
    "confusion_matrix = metrics.confusion_matrix(res_table['Flu'].fillna(0),res_table['prediction'])\n",
    "print(\"CONFUSION MATRIX\")\n",
    "print(confusion_matrix)\n",
    "cm_display = metrics.ConfusionMatrixDisplay(confusion_matrix = confusion_matrix, display_labels = [False, True])\n",
    "\n",
    "cm_display.plot()\n",
    "plt.show()"
   ]
  },
  {
   "cell_type": "markdown",
   "metadata": {
    "id": "McfTOWTsNIFn"
   },
   "source": [
    "II. Compare the performance of both the models (4.b.i and 4.a.). Do they give the same solution with a difference in cost function?                                                              Evaluate performance for each case using a metric discussed in class (such as confusion matrix). You may also use graphs for explaining your observations."
   ]
  },
  {
   "cell_type": "markdown",
   "metadata": {
    "id": "QdiwU1R_RnKb"
   },
   "source": [
    " We can see that the accuracy of model 4a is 67.80 and that of model 4b-1 is 67.80. This implies that both the accuracies are similar no there is no effect of cost function on the model"
   ]
  }
 ],
 "metadata": {
  "colab": {
   "provenance": []
  },
  "kernelspec": {
   "display_name": "Python 3 (ipykernel)",
   "language": "python",
   "name": "python3"
  },
  "language_info": {
   "codemirror_mode": {
    "name": "ipython",
    "version": 3
   },
   "file_extension": ".py",
   "mimetype": "text/x-python",
   "name": "python",
   "nbconvert_exporter": "python",
   "pygments_lexer": "ipython3",
   "version": "3.10.9"
  }
 },
 "nbformat": 4,
 "nbformat_minor": 1
}
